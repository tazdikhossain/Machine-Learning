{
  "nbformat": 4,
  "nbformat_minor": 0,
  "metadata": {
    "colab": {
      "provenance": []
    },
    "kernelspec": {
      "name": "python3",
      "display_name": "Python 3"
    },
    "language_info": {
      "name": "python"
    }
  },
  "cells": [
    {
      "cell_type": "code",
      "execution_count": null,
      "metadata": {
        "id": "w8cRSPwOSZ2W"
      },
      "outputs": [],
      "source": [
        "import matplotlib.pyplot as plt\n",
        "import seaborn as sns\n",
        "\n",
        "fmri = sns.load_dataset(\"fmri\")\n",
        "fmri.head()\n",
        "\n",
        "sns.lineplot(x=\"timepoint\", y=\"signal\", data=fmri)\n",
        "plt.show()\n",
        "\n",
        "# Grouping data with 'hue'\n",
        "sns.lineplot(x=\"timepoint\", y=\"signal\", data=fmri, hue='event')\n",
        "plt.show()\n",
        "\n",
        "#Adding style\n",
        "sns.lineplot(x=\"timepoint\", y=\"signal\", data=fmri, hue='event',style='event')\n",
        "plt.show()\n",
        "\n",
        "#Marker\n",
        "sns.lineplot(x=\"timepoint\", y=\"signal\", data=fmri, hue='event', style='event', marker=True)\n",
        "plt.show()"
      ]
    },
    {
      "cell_type": "code",
      "source": [
        "# Seaborn bar plot\n",
        "import pandas as pd\n",
        "\n",
        "sns.set(style=\"whitegrid\")\n",
        "pokemon=pd.read_csv('pokemon.csv')\n",
        "sns.barplot(x=\"is_legendary\", y=\"speed\", data=pokemon)\n",
        "sns.barplot(x=\"is_legendary\", y=\"speed\", hue='generation', data=pokemon)\n",
        "plt.show() #Hue==.Color\n",
        "\n",
        "sns.barplot(x=\"is_legendary\", y=\"speed\", data=pokemon, palette='Blues_d')\n",
        "sns.barplot(x=\"is_legendary\", y=\"speed\", data=pokemon, palette='rocket')\n",
        "sns.barplot(x=\"is_legendary\", y=\"speed\", data=pokemon, palette='vlag')\n",
        "sns.barplot(x=\"is_legendary\", y=\"speed\", data=pokemon,color='orange')"
      ],
      "metadata": {
        "id": "TaqLprQhd4Yb"
      },
      "execution_count": null,
      "outputs": []
    },
    {
      "cell_type": "code",
      "source": [
        "# Scatter plot\n",
        "sns.scatterplot(x=\"is_legendary\", y=\"speed\", data=pokemon,hue='', style='')"
      ],
      "metadata": {
        "id": "e1LiZHoked-7"
      },
      "execution_count": null,
      "outputs": []
    },
    {
      "cell_type": "code",
      "source": [
        "# Seaborn histogram\n",
        "diamonds=pd.read_csv('diamond.csv')\n",
        "sns.displot(diamonds['price'])\n",
        "plt.show()\n",
        "sns.displot(diamonds['price'], hist=False)\n",
        "sns.displot(diamonds['price'], kde=False)\n",
        "sns.displot(diamonds['price'],bins=10,kde=False)\n",
        "plt.show()\n",
        "sns.displot(diamonds['price'], vertical=True)"
      ],
      "metadata": {
        "id": "HnJpKVUdhUAU"
      },
      "execution_count": null,
      "outputs": []
    },
    {
      "cell_type": "code",
      "source": [
        "sns.jointplot(x='', y='',data=, kind='reg')# for rgression line\n",
        "sns.boxplot(x='', y='',data=, kind='reg')\n",
        "\n",
        "sns.jointplot(x='', y='',data=, palette='Set1')\n",
        "sns.jointplot(x='', y='',data=, linewidth=3)\n",
        "sns.jointplot(x='', y='',data=, order=[\"\".\"\",\"\"])"
      ],
      "metadata": {
        "id": "Dva_5CjikPrU"
      },
      "execution_count": null,
      "outputs": []
    }
  ]
}