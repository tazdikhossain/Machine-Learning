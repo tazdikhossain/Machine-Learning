{
  "nbformat": 4,
  "nbformat_minor": 0,
  "metadata": {
    "colab": {
      "provenance": []
    },
    "kernelspec": {
      "name": "python3",
      "display_name": "Python 3"
    },
    "language_info": {
      "name": "python"
    }
  },
  "cells": [
    {
      "cell_type": "code",
      "execution_count": null,
      "metadata": {
        "id": "50fKuIGh7M0F"
      },
      "outputs": [],
      "source": [
        "# Numerical Python and is the core library for numeric and scientific computing\n",
        "# Consist of multi-dimentional array objects and a collection of routines for processing those arrays\n",
        "import numpy as np # alias->np\n",
        "\n",
        "# Single dimention array\n",
        "n1=np.array([1,2,3,4])\n",
        "#Multi-dimentional array\n",
        "n2=np.array([[4,5,6,7],[2,3,4,5]])\n",
        "# initializing numpy array with zero\n",
        "n3=np.array((1,2))\n",
        "#initialize array with same number\n",
        "n4=np.full((2,2),10)\n",
        "# with a range\n",
        "n5=np.arange(10,20)\n",
        "n6=np.arange(10,20,5)\n",
        "# Random numbers\n",
        "n7=np.random.randint(1,100,5)\n",
        "# Shape of an array\n",
        "n8=np.array([[1,2,3],[3,4,5]])\n",
        "n8.shape\n",
        "#n8.shape=(2,2)\n",
        "\n",
        "# Joining 2 numpy array\n",
        "# vstack() #vartical\n",
        "n9=np.array([1,2,3])\n",
        "n10=np.array([2,3,4])\n",
        "np.vstack((n9,n10))\n",
        "#hstack()  #Horizontal\n",
        "n11=np.array([1,2,3])\n",
        "n12=np.array([2,3,4])\n",
        "np.hstack((n10,n11))\n",
        "#column_stack()\n",
        "n13=np.array([1,2,3])\n",
        "n14=np.array([2,3,4])\n",
        "np.hstack((n13,n14))\n",
        "\n",
        "\n",
        "#numpy intersections and difference\n",
        "np.intersect1d(n13,n14)\n",
        "np.setdiff1d(n13,n14)\n",
        "np.setdiff1d(n13,n14)"
      ]
    },
    {
      "cell_type": "code",
      "source": [
        "# Addition of numpy arrays\n",
        "n13=np.array([1,2,3])\n",
        "n14=np.array([2,3,4])\n",
        "np.sum([n13,n14])\n",
        "np.sum([n13,n14],axis=0) #Values along side column\n",
        "np.sum([n13,n14],axis=1) # Values along side row\n",
        "\n",
        "# Basic Addition\n",
        "n15=np.array([1,2,3])\n",
        "n15=n15+1\n",
        "#Subtaction\n",
        "n15=n15-1\n",
        "#Multiplication\n",
        "n15=n15*2\n",
        "#Division\n",
        "n15=n15/2\n",
        "\n",
        "# Mean\n",
        "n16=np.array([1,2,3,4,5,6,7,8,9])\n",
        "np.mean(n16)\n",
        "# Median\n",
        "np.median(n16)\n",
        "# Standard Deviation\n",
        "np.std(n16)\n",
        "\n",
        "\n",
        "# numpy metrix\n",
        "n17=np.array([[1,2,3],[2,3,4],[5,6,7]])\n",
        "n17[0]\n",
        "n17[1]\n",
        "n17[2]\n",
        "n17[:,0]\n",
        "n17[:,1]\n",
        "n17[:,2]\n",
        "#Transpose\n",
        "n17.transpose()\n",
        "# Matrix multiplication\n",
        "n13=np.array([1,2,3])\n",
        "n14=np.array([2,3,4])\n",
        "n13.dot(n14)\n",
        "n14.dot(n13)"
      ],
      "metadata": {
        "id": "4rzRermtICCQ"
      },
      "execution_count": null,
      "outputs": []
    },
    {
      "cell_type": "code",
      "source": [
        "# Numpy Load and save\n",
        "\n",
        "n1=np.array([1,2,3,4,5,6,7,8])\n",
        "np.save('my_numpy',n1)\n",
        "\n",
        "n2=np.load('my_numpy.npy')\n",
        "n2"
      ],
      "metadata": {
        "colab": {
          "base_uri": "https://localhost:8080/"
        },
        "id": "-OdULMcgN535",
        "outputId": "58677f89-610c-432b-ff05-3f69c8cf72c6"
      },
      "execution_count": null,
      "outputs": [
        {
          "output_type": "execute_result",
          "data": {
            "text/plain": [
              "array([1, 2, 3, 4, 5, 6, 7, 8])"
            ]
          },
          "metadata": {},
          "execution_count": 28
        }
      ]
    }
  ]
}