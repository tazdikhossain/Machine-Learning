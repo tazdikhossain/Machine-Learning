{
  "nbformat": 4,
  "nbformat_minor": 0,
  "metadata": {
    "colab": {
      "provenance": []
    },
    "kernelspec": {
      "name": "python3",
      "display_name": "Python 3"
    },
    "language_info": {
      "name": "python"
    }
  },
  "cells": [
    {
      "cell_type": "code",
      "execution_count": null,
      "metadata": {
        "id": "P7dDGkK_bOdv"
      },
      "outputs": [],
      "source": [
        "# Python library for data visualization\n",
        "# Bar-plots, scatter-plots, histogram\n",
        "import numpy as np\n",
        "from matplotlib import pyplot as plt\n",
        "\n",
        "x=np.arange(1,11)\n",
        "y=2*x\n",
        "plt.plot(x,y)\n",
        "plt.plot(x,y,color='g', linestyle=':', linewidth=2)\n",
        "\n",
        "plt.title(\"Line Plot\")\n",
        "plt.xlabel(\"x-label\")\n",
        "plt.ylabel(\"y-label\")\n",
        "\n",
        "plt.show"
      ]
    },
    {
      "cell_type": "code",
      "source": [
        "# Ading 2 lines in asame plot\n",
        "x=np.arange(1,11)\n",
        "y1=2*x\n",
        "y2=3*x\n",
        "plt.plot(x,y1,color='g', linestyle=':', linewidth=2)\n",
        "plt.plot(x,y2,color='g', linestyle=':', linewidth=2)\n",
        "plt.title(\"Line Plot\")\n",
        "plt.xlabel(\"x-label\")\n",
        "plt.ylabel(\"y-label\")\n",
        "plt.grid(True)\n",
        "plt.show()"
      ],
      "metadata": {
        "id": "4HALpMp1Ajin"
      },
      "execution_count": null,
      "outputs": []
    },
    {
      "cell_type": "code",
      "source": [
        "# Adding sub-plots\n",
        "x=np.arange(1,11)\n",
        "y1=2*x\n",
        "y2=3*x\n",
        "\n",
        "plt.subplot(1,2,1)\n",
        "plt.plot(x,y1,color='g', linestyle=':', linewidth=2)\n",
        "\n",
        "plt.subplot(1,2,2)\n",
        "plt.plot(x,y2,color='g', linestyle=':', linewidth=2)\n",
        "\n",
        "plt.show()"
      ],
      "metadata": {
        "id": "CWg8gO0jB5Fv"
      },
      "execution_count": null,
      "outputs": []
    },
    {
      "cell_type": "code",
      "source": [
        "# Bar Plot\n",
        "\n",
        "student = {\"mm\":34, \"LL\":45, \"ll\":56}\n",
        "names = list(student.keys())\n",
        "values = list(student.values())\n",
        "plt.bar(names, values)\n",
        "plt.show()\n",
        "\n",
        "# Adding titles and labels\n",
        "plt.bar(names, values)\n",
        "plt.title(\"Bar plot\")\n",
        "plt.xlabel(\"Names\")\n",
        "plt.ylabel(\"Marks\")\n",
        "plt.grid(True)\n",
        "plt.show()\n"
      ],
      "metadata": {
        "id": "lgsWnp7mEH6I"
      },
      "execution_count": null,
      "outputs": []
    },
    {
      "cell_type": "code",
      "source": [
        "# HOrizontal Bar plot\n",
        "\n",
        "plt.barh(names,values, color='g') ######\n",
        "\n",
        "plt.title(\"Bar plot\")\n",
        "plt.xlabel(\"Names\")\n",
        "plt.ylabel(\"Marks\")\n",
        "plt.grid(True)\n",
        "plt.show()\n"
      ],
      "metadata": {
        "id": "FTwIXuBWGv9J"
      },
      "execution_count": null,
      "outputs": []
    },
    {
      "cell_type": "code",
      "source": [
        "# Creating a basic scatter plot\n",
        "x=[10,20,30,40,60,70]\n",
        "a=[4,5,6,7,9,7]\n",
        "\n",
        "plt.scatter(x,a)\n",
        "plt.show()\n",
        "\n",
        "# Changing Mark Aesthetics\n",
        "plt.scatter(x,a,marker='*',c=\"g\",s=100)\n",
        "plt.show()"
      ],
      "metadata": {
        "id": "EDuijAf3HVkx"
      },
      "execution_count": null,
      "outputs": []
    },
    {
      "cell_type": "code",
      "source": [
        "#Adding 2 scatter plots\n",
        "x=[10,20,30,40,60,70]\n",
        "a=[4,5,6,7,9,7]\n",
        "b=[1,2,3,4,5,3]\n",
        "plt.scatter(x,a,marker='*',c=\"g\",s=100)\n",
        "plt.scatter(x,b ,marker='*',c=\"r\",s=100)\n",
        "plt.show()\n"
      ],
      "metadata": {
        "id": "9xagY7hdIjFA"
      },
      "execution_count": null,
      "outputs": []
    },
    {
      "cell_type": "code",
      "source": [
        "#Adding 2 scatter plots\n",
        "x=[10,20,30,40,60,70]\n",
        "a=[4,5,6,7,9,7]\n",
        "b=[1,2,3,4,5,3]\n",
        "plt.subplot(1,2,1)\n",
        "plt.scatter(x,a,marker='*',c=\"g\",s=100)\n",
        "plt.subplot(1,2,2)\n",
        "plt.scatter(x,b ,marker='*',c=\"r\",s=100)\n",
        "plt.show()"
      ],
      "metadata": {
        "id": "YuDxD13qI_-5"
      },
      "execution_count": null,
      "outputs": []
    },
    {
      "cell_type": "code",
      "source": [
        "# Histrogram\n",
        "\n",
        "data=[1,1,1,2,2,2,3,3,4,3,3,3,3,5,6,6,6,7,8,9,8,8,8,9]\n",
        "plt.hist(data)\n",
        "plt.show()\n",
        "\n",
        "plt.hist(data, color='g',bins=4)\n",
        "plt.show()"
      ],
      "metadata": {
        "id": "cQz3qrmuMT6J"
      },
      "execution_count": null,
      "outputs": []
    },
    {
      "cell_type": "code",
      "source": [
        "#Working with a dataset\n",
        "\n",
        "data = pd.read_csv('')\n",
        "data.head()\n",
        "plt.hist(data[''],bins=30,color=\"r\")\n",
        "plt.show()"
      ],
      "metadata": {
        "id": "3bqvHEbmNBLZ"
      },
      "execution_count": null,
      "outputs": []
    },
    {
      "cell_type": "code",
      "source": [
        "# Creating data\n",
        "# Box plot\n",
        "one=[1,2,3,4,5,6]\n",
        "two=[4,5,6,7,5]\n",
        "three=[6,7,8,9]\n",
        "data=list([one,two,three])\n",
        "plt.boxplot(data)\n",
        "plt.show()"
      ],
      "metadata": {
        "id": "TwHsGE7MNa5I"
      },
      "execution_count": null,
      "outputs": []
    },
    {
      "cell_type": "code",
      "source": [
        "# Violin plot\n",
        "one=[1,2,3,4,5,6]\n",
        "two=[4,5,6,7,5]\n",
        "three=[6,7,8,9]\n",
        "data=list([one,two,three])\n",
        "plt.violinplot(data, showmedians=True)\n",
        "plt.show()"
      ],
      "metadata": {
        "id": "J8k-KQEPPZa6"
      },
      "execution_count": null,
      "outputs": []
    },
    {
      "cell_type": "code",
      "source": [
        "# Pie Chart\n",
        "fruit=['apple', 'grape', 'guava', 'orange']\n",
        "quantity = [23,45,67,89]\n",
        "plt.pie(quantity, labels=fruit)\n",
        "plt.show()\n",
        "\n",
        "# Changing asthetics\n",
        "plt.pie(quantity, labels=fruit, autopct='%0.1f%%', colors=[\"yellow\", \"red\",\"green\",\"blue\"])\n",
        "plt.show()"
      ],
      "metadata": {
        "id": "dhc1ZgySPnua"
      },
      "execution_count": null,
      "outputs": []
    },
    {
      "cell_type": "code",
      "source": [
        "# DoughNut-chart\n",
        "fruit=['apple', 'grape', 'guava', 'orange']\n",
        "quantity = [23,45,67,89]\n",
        "\n",
        "plt.pie(quantity, labels=fruit, radius=2)\n",
        "plt.pie([1],colors=['w'], radius=1)\n",
        "plt.show()"
      ],
      "metadata": {
        "id": "l1XIG3KGRwrl"
      },
      "execution_count": null,
      "outputs": []
    }
  ]
}