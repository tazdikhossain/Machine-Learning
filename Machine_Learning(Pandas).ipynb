{
  "nbformat": 4,
  "nbformat_minor": 0,
  "metadata": {
    "colab": {
      "provenance": []
    },
    "kernelspec": {
      "name": "python3",
      "display_name": "Python 3"
    },
    "language_info": {
      "name": "python"
    }
  },
  "cells": [
    {
      "cell_type": "code",
      "execution_count": null,
      "metadata": {
        "id": "ISosGNgkOwjm"
      },
      "outputs": [],
      "source": [
        " # Panda-> Panel Data and its core library for datya manupulation and data analysis\n",
        " # It consist of single and multi-dimentional data-structure for data-manupulation\n",
        "\n",
        "import pandas as pd\n",
        "s1=pd.Series([1,2,3,4,5])\n",
        "s1\n",
        "# Changing index\n",
        "s1=pd.Series([1,2,3,4,5], index=['a','b','c','d','e'])\n",
        "s1\n",
        "#Series Object from a dictonary\n",
        "pd.Series({'a':1, 'b':2, 'c':3})\n",
        "# Changing index position\n",
        "pd.Series({'a':1, 'b':2, 'c':3}, index=['b','c','d','a'])\n",
        "\n",
        "#Extracting a single element\n",
        "s1=pd.Series([1,2,3,4,5])\n",
        "s1[4]\n",
        "#Extracting Sequence of element\n",
        "s1[:4]\n",
        "# Extracting Elements from back\n",
        "s1[-4:]\n",
        "\n",
        "# Adding a scalar value to series Elements\n",
        "s1+5\n",
        "#Adding two series object\n",
        "s1=pd.Series([1,2,3,4,5])\n",
        "s2=pd.Series([1,2,3,4,5])\n",
        "s1+s2"
      ]
    },
    {
      "cell_type": "code",
      "source": [
        "# Pandas Dataframe-. 2 dimentional labeled data structure\n",
        "# A data frame comprises of rows and columns\n",
        "\n",
        "pd.DataFrame({\"Name\":['jj','kk','ll'], \"Marks\":[1,2,3]})\n",
        "# DataFrame inbuild function\n",
        "iris=pd.read_csv('/content/sample_data/california_housing_test.csv')\n",
        "iris.head()\n",
        "iris.tail()\n",
        "iris.shape\n",
        "iris.describe()\n",
        "\n",
        "# Indivisual dagta from columns and rows\n",
        "iris.iloc[0:3, 0:2]\n",
        "iris.loc[0:3,(\"\",\"\")]\n",
        "\n",
        "# Dropping Columns\n",
        "iris.drop('', axis=1)\n",
        "# Dropping Rows\n",
        "iris.drop([1,2,3],axis=0)\n",
        "\n",
        "# iris.mean\n",
        "iris.mean()\n",
        "#iris.Median\n",
        "iris.median()\n",
        "#iris.Minimum\n",
        "iris.min()\n",
        "#iris.max\n",
        "iris.max()"
      ],
      "metadata": {
        "id": "YaIWZjWyWAUJ"
      },
      "execution_count": null,
      "outputs": []
    }
  ]
}